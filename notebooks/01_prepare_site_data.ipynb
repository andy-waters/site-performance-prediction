{
 "cells": [
  {
   "cell_type": "markdown",
   "id": "30a98917",
   "metadata": {},
   "source": [
    "# Site Performance Data Preparation\n",
    "This notebook loads and processes clinical trial site data from the AACT dataset."
   ]
  },
  {
   "cell_type": "code",
   "execution_count": 1,
   "id": "a8d1fac4",
   "metadata": {},
   "outputs": [],
   "source": [
    "import pandas as pd\n",
    "from pathlib import Path"
   ]
  },
  {
   "cell_type": "markdown",
   "id": "1e9aad67",
   "metadata": {},
   "source": [
    "## Define Raw Data Directory"
   ]
  },
  {
   "cell_type": "code",
   "execution_count": 2,
   "id": "e7aad2a7",
   "metadata": {},
   "outputs": [
    {
     "name": "stdout",
     "output_type": "stream",
     "text": [
      "Data directory: ../data/raw/aact-data\n"
     ]
    }
   ],
   "source": [
    "# Define your raw data folder\n",
    "DATA_DIR = Path(\"../data/raw/aact-data\")\n",
    "print(f\"Data directory: {DATA_DIR}\")"
   ]
  },
  {
   "cell_type": "markdown",
   "id": "5edc0932",
   "metadata": {},
   "source": [
    "## Load Tables\n",
    "Define and load AACT tables: `studies`, `facilities`, `sponsors`, and `conditions`."
   ]
  },
  {
   "cell_type": "code",
   "execution_count": 3,
   "id": "6dbdcfa4",
   "metadata": {},
   "outputs": [
    {
     "name": "stdout",
     "output_type": "stream",
     "text": [
      "Loading studies...\n",
      "Loading facilities...\n",
      "Loading sponsors...\n",
      "Loading conditions...\n"
     ]
    }
   ],
   "source": [
    "# Tables to load\n",
    "TABLES = {\n",
    "    \"studies\": \"studies.txt\",\n",
    "    \"facilities\": \"facilities.txt\",\n",
    "    \"sponsors\": \"sponsors.txt\",\n",
    "    \"conditions\": \"conditions.txt\"\n",
    "}\n",
    "\n",
    "# Load tables into DataFrames\n",
    "dfs = {}\n",
    "for name, filename in TABLES.items():\n",
    "    file_path = DATA_DIR / filename\n",
    "    print(f\"Loading {name}...\")\n",
    "    dfs[name] = pd.read_csv(file_path, delimiter=\"|\", dtype=str, low_memory=False)"
   ]
  },
  {
   "cell_type": "markdown",
   "id": "6f0f3d87",
   "metadata": {},
   "source": [
    "## Extract and Subset DataFrames\n",
    "Select only the relevant columns."
   ]
  },
  {
   "cell_type": "code",
   "execution_count": 4,
   "id": "7e4e4aea",
   "metadata": {},
   "outputs": [],
   "source": [
    "# Extract individual DataFrames\n",
    "studies = dfs[\"studies\"]\n",
    "facilities = dfs[\"facilities\"]\n",
    "sponsors = dfs[\"sponsors\"]\n",
    "conditions = dfs[\"conditions\"]\n",
    "\n",
    "# Only keep relevant columns from each\n",
    "studies_subset = studies[[\n",
    "    \"nct_id\", \"study_type\", \"phase\", \"enrollment\", \"overall_status\", \"start_date\", \"completion_date\"\n",
    "]]\n",
    "\n",
    "facilities_subset = facilities[[\n",
    "    \"nct_id\", \"status\", \"name\", \"city\", \"state\", \"country\"\n",
    "]]\n",
    "\n",
    "sponsors_subset = sponsors[sponsors[\"lead_or_collaborator\"] == \"lead\"]\n",
    "sponsors_subset = sponsors_subset[[\"nct_id\", \"agency_class\"]]\n",
    "\n",
    "# Optional: count number of conditions per study\n",
    "condition_counts = conditions.groupby(\"nct_id\").size().reset_index(name=\"condition_count\")"
   ]
  },
  {
   "cell_type": "markdown",
   "id": "785dc307",
   "metadata": {},
   "source": [
    "## Merge Tables\n",
    "Combine the extracted datasets into a single DataFrame."
   ]
  },
  {
   "cell_type": "code",
   "execution_count": 5,
   "id": "eceb1343",
   "metadata": {},
   "outputs": [],
   "source": [
    "# Merge tables together\n",
    "merged = facilities_subset.merge(studies_subset, on=\"nct_id\", how=\"left\")\n",
    "merged = merged.merge(sponsors_subset, on=\"nct_id\", how=\"left\")\n",
    "merged = merged.merge(condition_counts, on=\"nct_id\", how=\"left\")"
   ]
  },
  {
   "cell_type": "markdown",
   "id": "c2f88758",
   "metadata": {},
   "source": [
    "## Handle Missing Data and Feature Engineering"
   ]
  },
  {
   "cell_type": "code",
   "execution_count": 6,
   "id": "ca96a501",
   "metadata": {},
   "outputs": [],
   "source": [
    "# Fill missing data\n",
    "merged[\"enrollment\"] = pd.to_numeric(merged[\"enrollment\"], errors=\"coerce\")\n",
    "merged[\"condition_count\"] = merged[\"condition_count\"].fillna(0).astype(int)\n",
    "\n",
    "# Feature: number of sites per study\n",
    "site_counts = facilities.groupby(\"nct_id\").size().reset_index(name=\"site_count\")\n",
    "merged = merged.merge(site_counts, on=\"nct_id\", how=\"left\")\n",
    "\n",
    "# Feature: site success label\n",
    "merged[\"site_success\"] = merged[\"status\"].apply(\n",
    "    lambda x: 1 if str(x).lower() in [\"active, not recruiting\", \"recruiting\", \"completed\", \"enrolling by invitation\"] else 0\n",
    ")\n",
    "\n",
    "# Optional cleanup of category fields\n",
    "merged[\"phase\"] = merged[\"phase\"].fillna(\"Unknown\")\n",
    "merged[\"study_type\"] = merged[\"study_type\"].fillna(\"Unknown\")\n",
    "merged[\"agency_class\"] = merged[\"agency_class\"].fillna(\"Unknown\")\n",
    "merged[\"country\"] = merged[\"country\"].fillna(\"Unknown\")"
   ]
  },
  {
   "cell_type": "markdown",
   "id": "af57f3de",
   "metadata": {},
   "source": [
    "## Create Final Modeling Dataset\n",
    "Subset final features and preview the dataset."
   ]
  },
  {
   "cell_type": "code",
   "execution_count": 7,
   "id": "546393ee",
   "metadata": {},
   "outputs": [
    {
     "name": "stdout",
     "output_type": "stream",
     "text": [
      "Final modeling dataset shape: (3285407, 13)\n",
      "site_success\n",
      "0    2877330\n",
      "1     408077\n",
      "Name: count, dtype: int64\n"
     ]
    }
   ],
   "source": [
    "# Final dataset\n",
    "model_df = merged[[\n",
    "    \"nct_id\", \"name\", \"city\", \"state\", \"country\", \"study_type\", \"phase\",\n",
    "    \"enrollment\", \"overall_status\", \"agency_class\", \"condition_count\",\n",
    "    \"site_count\", \"site_success\"\n",
    "]]\n",
    "\n",
    "print(f\"Final modeling dataset shape: {model_df.shape}\")\n",
    "print(model_df[\"site_success\"].value_counts())"
   ]
  },
  {
   "cell_type": "markdown",
   "id": "801d8a04",
   "metadata": {},
   "source": [
    "## Save Processed Dataset to CSV"
   ]
  },
  {
   "cell_type": "code",
   "execution_count": 8,
   "id": "af2b8dca",
   "metadata": {},
   "outputs": [
    {
     "name": "stdout",
     "output_type": "stream",
     "text": [
      "Saved final dataset to: ../data/site_performance.csv\n"
     ]
    }
   ],
   "source": [
    "# Save to CSV\n",
    "OUTPUT_PATH = DATA_DIR.parent.parent / \"site_performance.csv\"\n",
    "model_df.to_csv(OUTPUT_PATH, index=False)\n",
    "print(f\"Saved final dataset to: {OUTPUT_PATH}\")"
   ]
  }
 ],
 "metadata": {
  "kernelspec": {
   "display_name": "aact-env",
   "language": "python",
   "name": "python3"
  },
  "language_info": {
   "codemirror_mode": {
    "name": "ipython",
    "version": 3
   },
   "file_extension": ".py",
   "mimetype": "text/x-python",
   "name": "python",
   "nbconvert_exporter": "python",
   "pygments_lexer": "ipython3",
   "version": "3.12.7"
  }
 },
 "nbformat": 4,
 "nbformat_minor": 5
}
